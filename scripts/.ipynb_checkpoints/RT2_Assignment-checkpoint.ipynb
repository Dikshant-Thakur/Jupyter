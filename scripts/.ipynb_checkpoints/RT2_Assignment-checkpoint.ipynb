{
 "cells": [
  {
   "cell_type": "markdown",
   "id": "986f064e",
   "metadata": {},
   "source": [
    "Import the important libraries"
   ]
  },
  {
   "cell_type": "code",
   "execution_count": 1,
   "id": "8c286ea3",
   "metadata": {},
   "outputs": [],
   "source": [
    "import rospy\n",
    "from ipywidgets import Button, FloatText, VBox, widgets, Output, HTML\n",
    "from IPython.display import clear_output\n",
    "from assignment_2_2023.msg import PlanningAction, PlanningGoal, PlanningResult, Goal\n",
    "from actionlib_msgs.msg import GoalStatus, GoalStatusArray\n",
    "import actionlib\n",
    "from nav_msgs.msg import Odometry\n",
    "import matplotlib.pyplot as plt\n",
    "from matplotlib.animation import FuncAnimation\n",
    "from tf.transformations import quaternion_matrix\n",
    "import tf\n",
    "import numpy as np\n",
    "import threading\n",
    "import time\n",
    "\n",
    "\n"
   ]
  },
  {
   "cell_type": "markdown",
   "id": "57c5ab28",
   "metadata": {},
   "source": [
    "Code to set the target or cancel the target"
   ]
  },
  {
   "cell_type": "code",
   "execution_count": 2,
   "id": "3a0ae65d",
   "metadata": {},
   "outputs": [
    {
     "data": {
      "application/vnd.jupyter.widget-view+json": {
       "model_id": "b6e46cbdea90435dad085353685ffcfd",
       "version_major": 2,
       "version_minor": 0
      },
      "text/plain": [
       "VBox(children=(FloatText(value=0.0, description='Target X:'), FloatText(value=0.0, description='Target Y:'), B…"
      ]
     },
     "metadata": {},
     "output_type": "display_data"
    },
    {
     "name": "stdout",
     "output_type": "stream",
     "text": [
      "Goal sent with target coordinates: 0.0 0.0\n"
     ]
    },
    {
     "name": "stderr",
     "output_type": "stream",
     "text": [
      "ERROR:tornado.application:Exception in callback <bound method TimerBase._on_timer of <matplotlib.backends.backend_webagg_core.TimerTornado object at 0x7f9b985dd880>>\n",
      "Traceback (most recent call last):\n",
      "  File \"/usr/local/lib/python3.8/dist-packages/tornado/ioloop.py\", line 905, in _run\n",
      "    return self.callback()\n",
      "  File \"/usr/lib/python3/dist-packages/matplotlib/backend_bases.py\", line 1194, in _on_timer\n",
      "    ret = func(*args, **kwargs)\n",
      "  File \"/usr/lib/python3/dist-packages/matplotlib/animation.py\", line 1447, in _step\n",
      "    still_going = Animation._step(self, *args)\n",
      "  File \"/usr/lib/python3/dist-packages/matplotlib/animation.py\", line 1173, in _step\n",
      "    self._draw_next_frame(framedata, self._blit)\n",
      "  File \"/usr/lib/python3/dist-packages/matplotlib/animation.py\", line 1192, in _draw_next_frame\n",
      "    self._draw_frame(framedata)\n",
      "  File \"/usr/lib/python3/dist-packages/matplotlib/animation.py\", line 1755, in _draw_frame\n",
      "    self._drawn_artists = self._func(framedata, *self._args)\n",
      "  File \"/tmp/ipykernel_14424/2987029137.py\", line 30, in update_plot\n",
      "    self.update_second_plot()\n",
      "  File \"/tmp/ipykernel_14424/2987029137.py\", line 36, in update_second_plot\n",
      "    return self.ln, self.goal_ln, self.bar_l\n",
      "AttributeError: 'Visualiser' object has no attribute 'bar_l'\n"
     ]
    },
    {
     "name": "stdout",
     "output_type": "stream",
     "text": [
      "Goal sent with target coordinates: 0.0 4.0\n"
     ]
    },
    {
     "name": "stderr",
     "output_type": "stream",
     "text": [
      "ERROR:tornado.application:Exception in callback <bound method TimerBase._on_timer of <matplotlib.backends.backend_webagg_core.TimerTornado object at 0x7f9b985dd880>>\n",
      "Traceback (most recent call last):\n",
      "  File \"/usr/local/lib/python3.8/dist-packages/tornado/ioloop.py\", line 905, in _run\n",
      "    return self.callback()\n",
      "  File \"/usr/lib/python3/dist-packages/matplotlib/backend_bases.py\", line 1194, in _on_timer\n",
      "    ret = func(*args, **kwargs)\n",
      "  File \"/usr/lib/python3/dist-packages/matplotlib/animation.py\", line 1447, in _step\n",
      "    still_going = Animation._step(self, *args)\n",
      "  File \"/usr/lib/python3/dist-packages/matplotlib/animation.py\", line 1173, in _step\n",
      "    self._draw_next_frame(framedata, self._blit)\n",
      "  File \"/usr/lib/python3/dist-packages/matplotlib/animation.py\", line 1192, in _draw_next_frame\n",
      "    self._draw_frame(framedata)\n",
      "  File \"/usr/lib/python3/dist-packages/matplotlib/animation.py\", line 1755, in _draw_frame\n",
      "    self._drawn_artists = self._func(framedata, *self._args)\n",
      "  File \"/tmp/ipykernel_14424/2987029137.py\", line 30, in update_plot\n",
      "    self.update_second_plot()\n",
      "  File \"/tmp/ipykernel_14424/2987029137.py\", line 36, in update_second_plot\n",
      "    return self.ln, self.goal_ln, self.bar_l\n",
      "AttributeError: 'Visualiser' object has no attribute 'bar_l'\n"
     ]
    }
   ],
   "source": [
    "# ROS node ko initialize karo\n",
    "rospy.init_node('jupyter_ros_interface')\n",
    "action_client = actionlib.SimpleActionClient('/reaching_goal', PlanningAction)\n",
    "Feedback_Goal = [0, 0]\n",
    "flag = True\n",
    "\n",
    "x = []\n",
    "y = []\n",
    "# Button click event ke liye callback function define karo\n",
    "def button_click(lol): \n",
    "    global Feedback_Goal\n",
    "    Feedback_Goal[0] += 1\n",
    "    target_x = float(x_input.value)\n",
    "    target_y = float(y_input.value)\n",
    "    x.append(target_x)\n",
    "    y.append(target_y)\n",
    "\n",
    "    # Action server ko goal bhejo\n",
    "    goal = PlanningGoal()\n",
    "    goal.target_pose.pose.position.x = target_x\n",
    "    goal.target_pose.pose.position.y = target_y\n",
    "    \n",
    "    action_client.send_goal(goal)\n",
    "    print(\"Goal sent with target coordinates:\", target_x, target_y)\n",
    "    \n",
    "def cancel_clicked(cancel):\n",
    "    action_client.cancel_goal()\n",
    "    print(\"Target has been cancelled, set new target\")\n",
    "    x_input.value = 0\n",
    "    y_input.value = 0\n",
    "\n",
    "# Ye interface k liye hai, mtlb interface me jo x or y daalenge. Baaki jo process karega wo to function button_click hai. \n",
    "x_input = FloatText(description='Target X:')\n",
    "y_input = FloatText(description='Target Y:')\n",
    "cancel_button = Button(description='Cancel', tooltip='Click to cancel operation')\n",
    "\n",
    "# Submit button banao\n",
    "submit_button = Button(description='Submit Goal')\n",
    "\n",
    "# Button click event ko callback function se jodo\n",
    "submit_button.on_click(button_click)\n",
    "cancel_button.on_click(cancel_clicked)\n",
    "\n",
    "# Ye target_x or target_y or submit button ko display karne k liye hai\n",
    "VBox([x_input, y_input, submit_button,cancel_button])\n",
    "\n",
    " "
   ]
  },
  {
   "cell_type": "markdown",
   "id": "9cb6d816",
   "metadata": {},
   "source": [
    "All targets that have been set."
   ]
  },
  {
   "cell_type": "code",
   "execution_count": 3,
   "id": "a410a9f5",
   "metadata": {},
   "outputs": [
    {
     "data": {
      "application/vnd.jupyter.widget-view+json": {
       "model_id": "6b9613bb93594f938199c4917dbc48e7",
       "version_major": 2,
       "version_minor": 0
      },
      "text/plain": [
       "VBox(children=(HTML(value='<b>X coordinates:</b><br>'), HTML(value='<b>Y coordinates:</b><br>')))"
      ]
     },
     "metadata": {},
     "output_type": "display_data"
    }
   ],
   "source": [
    "# Convert the lists to strings\n",
    "x_str = '<br>'.join(map(str, x))\n",
    "y_str = '<br>'.join(map(str, y))\n",
    "\n",
    "# Format X and Y coordinates\n",
    "x_html = f\"<b>X coordinates:</b><br>{x_str}\"\n",
    "y_html = f\"<b>Y coordinates:</b><br>{y_str}\"\n",
    "\n",
    "# Create HTML widgets to display the data\n",
    "x_html_widget = HTML(value=x_html)\n",
    "y_html_widget = HTML(value=y_html)\n",
    "\n",
    "# Display the HTML widgets\n",
    "display(VBox([x_html_widget, y_html_widget]))\n",
    "\n",
    "\n",
    "\n"
   ]
  },
  {
   "cell_type": "code",
   "execution_count": 3,
   "id": "8a404fbd",
   "metadata": {
    "scrolled": true
   },
   "outputs": [
    {
     "data": {
      "application/vnd.jupyter.widget-view+json": {
       "model_id": "e08c1e797f9f4aadaca00bd8d9eae6d0",
       "version_major": 2,
       "version_minor": 0
      },
      "text/plain": [
       "Canvas(toolbar=Toolbar(toolitems=[('Home', 'Reset original view', 'home', 'home'), ('Back', 'Back to previous …"
      ]
     },
     "metadata": {},
     "output_type": "display_data"
    },
    {
     "name": "stdout",
     "output_type": "stream",
     "text": [
      "Success\n"
     ]
    },
    {
     "name": "stderr",
     "output_type": "stream",
     "text": [
      "[ERROR] [1717532797.891708, 1559.528000]: bad callback: <bound method Visualiser.goal_done_cb of <__main__.Visualiser object at 0x7f9bc0298610>>\n",
      "Traceback (most recent call last):\n",
      "  File \"/opt/ros/noetic/lib/python3/dist-packages/rospy/topics.py\", line 750, in _invoke_callback\n",
      "    cb(msg)\n",
      "  File \"/tmp/ipykernel_14424/2987029137.py\", line 46, in goal_done_cb\n",
      "    self.update_second_plot()\n",
      "  File \"/tmp/ipykernel_14424/2987029137.py\", line 36, in update_second_plot\n",
      "    return self.ln, self.goal_ln, self.bar_l\n",
      "AttributeError: 'Visualiser' object has no attribute 'bar_l'\n",
      "\n"
     ]
    }
   ],
   "source": [
    "%matplotlib widget\n",
    "class Visualiser:\n",
    " \n",
    "    def __init__(self):\n",
    "        self.fig, (self.ax, self.ax_bar) = plt.subplots(1, 2, figsize=(10, 5))\n",
    "        self.ln, = self.ax.plot([], [], 'ro', label='Position')\n",
    "        self.goal_ln, = self.ax.plot([], [], 'bx', label='Goal')\n",
    "        self.bar_ln = None\n",
    "        self.x_data, self.y_data = [], []\n",
    "        self.x_goal, self.y_goal = 0, 0\n",
    "        self.plot_init()\n",
    "\n",
    "    def plot_init(self):\n",
    "        self.ax.set_xlim(-20, 20)\n",
    "        self.ax.set_ylim(-20, 20)\n",
    "        \n",
    "        \n",
    "        self.ax_bar.set_ylim(0, max(Feedback_Goal) + 1)\n",
    "        self.bar_ln = self.ax_bar.bar(['Not Reached', 'Reached'], Feedback_Goal, color=['red', 'green'])\n",
    "        \n",
    "        return self.ln, self.goal_ln, self.bar_ln\n",
    "        \n",
    "    def clbk_odom(self, msg):\n",
    "        self.y_data.append(msg.pose.pose.position.y)\n",
    "        self.x_data.append(msg.pose.pose.position.x)\n",
    "\n",
    "    def update_plot(self, frame):\n",
    "        self.ln.set_data(self.x_data, self.y_data)\n",
    "        self.goal_ln.set_data([self.x_goal], [self.y_goal])\n",
    "        self.update_second_plot()\n",
    "        \n",
    "    def update_second_plot(self):\n",
    "        self.bar_ln[0].set_height(Feedback_Goal[0])\n",
    "        self.bar_ln[1].set_height(Feedback_Goal[1])\n",
    "        self.ax_bar.set_ylim(0, max(Feedback_Goal) + 1)\n",
    "        return self.ln, self.goal_ln, self.bar_ln\n",
    "        \n",
    "    def goal_done_cb(self, msg):\n",
    "        global flag, Feedback_Goal\n",
    "        for status in msg.status_list:\n",
    "            if status.status == GoalStatus.SUCCEEDED:\n",
    "                print(\"Success\")\n",
    "                if flag == True:\n",
    "                    Feedback_Goal[0] -= 1 \n",
    "                    Feedback_Goal[1] += 1\n",
    "                    self.update_second_plot()\n",
    "                    flag = False \n",
    "                    \n",
    "    \n",
    "            else:\n",
    "                flag = True\n",
    "                print(\"No worries, next time\")\n",
    "        \n",
    "            \n",
    "\n",
    "            \n",
    "\n",
    "    \n",
    "vis = Visualiser()\n",
    "sub_odom = rospy.Subscriber('/odom', Odometry, vis.clbk_odom)\n",
    "sub2 = rospy.Subscriber('/reaching_goal/status', GoalStatusArray, vis.goal_done_cb)\n",
    "ani = FuncAnimation(vis.fig, vis.update_plot, init_func = vis.plot_init, interval=50)\n",
    "plt.show(block=True)\n",
    "\n",
    "vis.ax.plot(x_input.value, y_input.value,  marker='*', markersize=5)\n",
    "plt.draw()\n",
    "\n",
    "\n",
    "\n",
    " "
   ]
  },
  {
   "cell_type": "code",
   "execution_count": 13,
   "id": "eb99effa",
   "metadata": {},
   "outputs": [
    {
     "name": "stdout",
     "output_type": "stream",
     "text": [
      "[2, 0]\n"
     ]
    }
   ],
   "source": [
    "print(Feedback_Goal)"
   ]
  },
  {
   "cell_type": "code",
   "execution_count": 6,
   "id": "a8514a17",
   "metadata": {},
   "outputs": [
    {
     "data": {
      "application/vnd.jupyter.widget-view+json": {
       "model_id": "bd1bda771b2e4f758085dbe45574c86d",
       "version_major": 2,
       "version_minor": 0
      },
      "text/plain": [
       "Canvas(toolbar=Toolbar(toolitems=[('Home', 'Reset original view', 'home', 'home'), ('Back', 'Back to previous …"
      ]
     },
     "metadata": {},
     "output_type": "display_data"
    }
   ],
   "source": [
    "%matplotlib widget\n",
    "import matplotlib.pyplot as plt\n",
    "import rospy\n",
    "from turtlesim.msg import Pose\n",
    "from matplotlib.animation import FuncAnimation\n",
    "\n",
    "class Visualiser:\n",
    "    def __init__(self):\n",
    "        self.fig, self.ax = plt.subplots()\n",
    "        self.ln, = plt.plot([], [], 'ro')\n",
    "        self.x_data, self.y_data = [], []\n",
    "\n",
    "    def plot_init(self):\n",
    "        self.ax.set_xlim(-20, 20)\n",
    "        self.ax.set_ylim(-20, 20)\n",
    "        return self.ln,\n",
    "        \n",
    "    def odom_callback(self, msg):\n",
    "        self.y_data.append(msg.y)\n",
    "        self.x_data.append(msg.x)\n",
    "\n",
    "    def update_plot(self, frame):\n",
    "        self.ln.set_data(self.x_data, self.y_data)\n",
    "        return self.ln,\n",
    "    \n",
    "    def clbk_odom(self, msg):\n",
    "        self.y_data.append(msg.pose.pose.position.y)\n",
    "        self.x_data.append(msg.pose.pose.position.x)\n",
    " \n",
    "\n",
    "vis = Visualiser()\n",
    "plt.show(block=True)\n",
    "\n",
    "sub_odom = rospy.Subscriber('/odom', Odometry, vis.clbk_odom)\n",
    "ani = FuncAnimation(vis.fig, vis.update_plot, init_func = vis.plot_init, interval=50)\n"
   ]
  }
 ],
 "metadata": {
  "kernelspec": {
   "display_name": "Python 3 (ipykernel)",
   "language": "python",
   "name": "python3"
  },
  "language_info": {
   "codemirror_mode": {
    "name": "ipython",
    "version": 3
   },
   "file_extension": ".py",
   "mimetype": "text/x-python",
   "name": "python",
   "nbconvert_exporter": "python",
   "pygments_lexer": "ipython3",
   "version": "3.8.5"
  }
 },
 "nbformat": 4,
 "nbformat_minor": 5
}
